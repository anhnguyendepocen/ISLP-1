{
 "cells": [
  {
   "cell_type": "code",
   "execution_count": 1,
   "metadata": {},
   "outputs": [],
   "source": [
    "# import statistical tools\n",
    "from __future__ import print_function\n",
    "import numpy as np\n",
    "import pandas as pd\n",
    "import statsmodels.api as sm\n",
    "from statsmodels.formula.api import ols\n",
    "from sklearn.linear_model import LinearRegression\n",
    "import scipy.stats as stats"
   ]
  },
  {
   "cell_type": "code",
   "execution_count": 2,
   "metadata": {},
   "outputs": [],
   "source": [
    "# import data visualisation tools\n",
    "import matplotlib.pyplot as plt\n",
    "from matplotlib import pylab\n",
    "import plotly.plotly as py\n",
    "import plotly.graph_objs as go\n",
    "import seaborn as sns\n",
    "%matplotlib inline"
   ]
  },
  {
   "cell_type": "code",
   "execution_count": 3,
   "metadata": {},
   "outputs": [
    {
     "name": "stdout",
     "output_type": "stream",
     "text": [
      "    mpg  cylinders  displacement horsepower  weight  acceleration  year  \\\n",
      "0  18.0          8         307.0        130    3504          12.0    70   \n",
      "1  15.0          8         350.0        165    3693          11.5    70   \n",
      "2  18.0          8         318.0        150    3436          11.0    70   \n",
      "3  16.0          8         304.0        150    3433          12.0    70   \n",
      "4  17.0          8         302.0        140    3449          10.5    70   \n",
      "\n",
      "   origin                       name  \n",
      "0       1  chevrolet chevelle malibu  \n",
      "1       1          buick skylark 320  \n",
      "2       1         plymouth satellite  \n",
      "3       1              amc rebel sst  \n",
      "4       1                ford torino  \n",
      "['mpg', 'cylinders', 'displacement', 'horsepower', 'weight', 'acceleration', 'year', 'origin', 'name']\n"
     ]
    }
   ],
   "source": [
    "# import and view first 10 items of file\n",
    "url = \"/Users/arpanganguli/Documents/Finance/ISLR/Datasets/Auto.csv\"\n",
    "Auto = pd.read_csv(url)\n",
    "print(Auto.head())\n",
    "print(list(Auto))\n",
    "Auto = Auto.drop(Auto.index[[32, 126, 330, 336, 354]]) # removing rows containing \"?\". This is the easy way out. Such missing values need to be explored first in a real life situation."
   ]
  },
  {
   "cell_type": "code",
   "execution_count": 4,
   "metadata": {},
   "outputs": [
    {
     "name": "stdout",
     "output_type": "stream",
     "text": [
      "                            OLS Regression Results                            \n",
      "==============================================================================\n",
      "Dep. Variable:                      Y   R-squared:                       0.606\n",
      "Model:                            OLS   Adj. R-squared:                  0.605\n",
      "Method:                 Least Squares   F-statistic:                     599.7\n",
      "Date:                Sun, 06 Jan 2019   Prob (F-statistic):           7.03e-81\n",
      "Time:                        17:48:56   Log-Likelihood:                -1178.7\n",
      "No. Observations:                 392   AIC:                             2361.\n",
      "Df Residuals:                     390   BIC:                             2369.\n",
      "Df Model:                           1                                         \n",
      "Covariance Type:            nonrobust                                         \n",
      "==============================================================================\n",
      "                 coef    std err          t      P>|t|      [0.025      0.975]\n",
      "------------------------------------------------------------------------------\n",
      "Intercept     39.9359      0.717     55.660      0.000      38.525      41.347\n",
      "X             -0.1578      0.006    -24.489      0.000      -0.171      -0.145\n",
      "==============================================================================\n",
      "Omnibus:                       16.432   Durbin-Watson:                   0.920\n",
      "Prob(Omnibus):                  0.000   Jarque-Bera (JB):               17.305\n",
      "Skew:                           0.492   Prob(JB):                     0.000175\n",
      "Kurtosis:                       3.299   Cond. No.                         322.\n",
      "==============================================================================\n",
      "\n",
      "Warnings:\n",
      "[1] Standard Errors assume that the covariance matrix of the errors is correctly specified.\n",
      "\n"
     ]
    }
   ],
   "source": [
    "# run regression (I am not visualising the data for the sake of brevity. But it is highly recommended as first step afer importing data)\n",
    "Y = Auto.mpg.astype(float)\n",
    "X = Auto.horsepower.astype(float)\n",
    "model = ols(\"Y ~ X\", data = Auto).fit()\n",
    "print(model.summary())\n",
    "print()\n",
    "values = slope, intercept, r_value, p_value, std_err = stats.linregress(X, Y)"
   ]
  },
  {
   "cell_type": "code",
   "execution_count": 5,
   "metadata": {},
   "outputs": [
    {
     "name": "stdout",
     "output_type": "stream",
     "text": [
      "Coefficients:  [-0.15784473]\n",
      "Intercepts:  39.93586102117047\n",
      "Predicted value at X = 98:  [24.46707715]\n"
     ]
    }
   ],
   "source": [
    "X1 = Auto[['horsepower']]\n",
    "Y1 = Auto['mpg']\n",
    "lm = LinearRegression().fit(X1, Y1)\n",
    "print(\"Coefficients: \", lm.coef_)\n",
    "print(\"Intercepts: \", lm.intercept_)\n",
    "Y2 = [[98]]\n",
    "predictions = lm.predict(Y2)\n",
    "print(\"Predicted value at X = 98: \", predictions)"
   ]
  },
  {
   "cell_type": "code",
   "execution_count": 6,
   "metadata": {},
   "outputs": [
    {
     "name": "stderr",
     "output_type": "stream",
     "text": [
      "/anaconda3/lib/python3.6/site-packages/scipy/stats/stats.py:1713: FutureWarning:\n",
      "\n",
      "Using a non-tuple sequence for multidimensional indexing is deprecated; use `arr[tuple(seq)]` instead of `arr[seq]`. In the future this will be interpreted as an array index, `arr[np.array(seq)]`, which will result either in an error or a different result.\n",
      "\n"
     ]
    },
    {
     "data": {
      "text/plain": [
       "<seaborn.axisgrid.FacetGrid at 0x1c1b4b86d8>"
      ]
     },
     "execution_count": 6,
     "metadata": {},
     "output_type": "execute_result"
    },
    {
     "data": {
      "image/png": "[encoded data removed]",
      "text/plain": [
       "<Figure size 360x360 with 1 Axes>"
      ]
     },
     "metadata": {
      "needs_background": "light"
     },
     "output_type": "display_data"
    }
   ],
   "source": [
    "# plot relationships\n",
    "plotdata = pd.concat([X, Y], axis = 1)\n",
    "sns.lmplot(x = \"horsepower\", y = \"mpg\", data = plotdata)"
   ]
  },
  {
   "cell_type": "code",
   "execution_count": 7,
   "metadata": {},
   "outputs": [
    {
     "data": {
      "text/plain": [
       "'\\na.i. Given the F-Statistic > 1 and p-value of that F-Statistic is close to 0 (and << 0.005), there is a statistically significant\\n   relationship between mpg and horespower.\\na.ii. To determine the strength of the relationship between the predictor (horsepower) and response (mpg), we need to calculate the ratio of \\n   the RSE of the predictor (as determined by the model) and the mean of the response, since it would show how strongly it actually predicts\\n   the true values of the response. (Another way would be to show R^2 since it would determine how much the regressed model actually explains\\n   the true values of the response). The RSE is 4.905757 and the mean of mpg is 23.445918, which means the percentage error is 20.923714%. The R^2 value is 0.795 or 79.5%.\\na.iii. Negative relationship. An increase in horsepower is related to a decrease in mpg. See graph <Auto_mpg_hp - Predicted.png>\\na.iv. 24.46707715\\nb. <mpg~horsepower.png>\\n'"
      ]
     },
     "execution_count": 7,
     "metadata": {},
     "output_type": "execute_result"
    }
   ],
   "source": [
    "\"\"\"\n",
    "a.i. Given the F-Statistic > 1 and p-value of that F-Statistic is close to 0 (and << 0.005), there is a statistically significant\n",
    "   relationship between mpg and horespower.\n",
    "a.ii. To determine the strength of the relationship between the predictor (horsepower) and response (mpg), we need to calculate the ratio of \n",
    "   the RSE of the predictor (as determined by the model) and the mean of the response, since it would show how strongly it actually predicts\n",
    "   the true values of the response. (Another way would be to show R^2 since it would determine how much the regressed model actually explains\n",
    "   the true values of the response). The RSE is 4.905757 and the mean of mpg is 23.445918, which means the percentage error is 20.923714%. The R^2 value is 0.795 or 79.5%.\n",
    "a.iii. Negative relationship. An increase in horsepower is related to a decrease in mpg. See graph <Auto_mpg_hp - Predicted.png>\n",
    "a.iv. 24.46707715\n",
    "b. <mpg~horsepower.png>\n",
    "\"\"\""
   ]
  }
 ],
 "metadata": {
  "kernelspec": {
   "display_name": "Python 3",
   "language": "python",
   "name": "python3"
  },
  "language_info": {
   "codemirror_mode": {
    "name": "ipython",
    "version": 3
   },
   "file_extension": ".py",
   "mimetype": "text/x-python",
   "name": "python",
   "nbconvert_exporter": "python",
   "pygments_lexer": "ipython3",
   "version": "3.6.6"
  }
 },
 "nbformat": 4,
 "nbformat_minor": 2
}

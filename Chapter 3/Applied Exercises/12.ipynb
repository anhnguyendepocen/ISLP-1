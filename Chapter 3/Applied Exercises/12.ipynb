{
 "cells": [
  {
   "cell_type": "code",
   "execution_count": 55,
   "metadata": {},
   "outputs": [],
   "source": [
    "# import statistical tools\n",
    "from __future__ import print_function\n",
    "import numpy as np\n",
    "import pandas as pd\n",
    "import statsmodels.api as sm\n",
    "from statsmodels.formula.api import ols"
   ]
  },
  {
   "cell_type": "code",
   "execution_count": 56,
   "metadata": {},
   "outputs": [],
   "source": [
    "# import data visualisation tools\n",
    "import matplotlib.pyplot as plt\n",
    "import seaborn as sns\n",
    "%matplotlib inline"
   ]
  },
  {
   "cell_type": "code",
   "execution_count": 57,
   "metadata": {},
   "outputs": [],
   "source": [
    "# 12.a. sum(y^2) = sum(x^2)\n",
    "\n",
    "#12.b. regressions with different coefficients\n",
    "\n",
    "x1 = pd.DataFrame(np.random.normal(0, 1, 100))\n",
    "y1 = 2*x1"
   ]
  },
  {
   "cell_type": "code",
   "execution_count": 58,
   "metadata": {},
   "outputs": [
    {
     "name": "stdout",
     "output_type": "stream",
     "text": [
      "                            OLS Regression Results                            \n",
      "==============================================================================\n",
      "Dep. Variable:                     y1   R-squared:                       1.000\n",
      "Model:                            OLS   Adj. R-squared:                  1.000\n",
      "Method:                 Least Squares   F-statistic:                       inf\n",
      "Date:                Sun, 06 Jan 2019   Prob (F-statistic):               0.00\n",
      "Time:                        18:05:39   Log-Likelihood:                    inf\n",
      "No. Observations:                 100   AIC:                              -inf\n",
      "Df Residuals:                      99   BIC:                              -inf\n",
      "Df Model:                           1                                         \n",
      "Covariance Type:            nonrobust                                         \n",
      "==============================================================================\n",
      "                 coef    std err          t      P>|t|      [0.025      0.975]\n",
      "------------------------------------------------------------------------------\n",
      "x1             2.0000          0        inf      0.000       2.000       2.000\n",
      "==============================================================================\n",
      "Omnibus:                        1.044   Durbin-Watson:                     nan\n",
      "Prob(Omnibus):                  0.593   Jarque-Bera (JB):               37.500\n",
      "Skew:                           0.000   Prob(JB):                     7.19e-09\n",
      "Kurtosis:                       0.000   Cond. No.                         1.00\n",
      "==============================================================================\n",
      "\n",
      "Warnings:\n",
      "[1] Standard Errors assume that the covariance matrix of the errors is correctly specified.\n"
     ]
    },
    {
     "name": "stderr",
     "output_type": "stream",
     "text": [
      "/anaconda3/lib/python3.6/site-packages/statsmodels/regression/linear_model.py:1594: RuntimeWarning:\n",
      "\n",
      "divide by zero encountered in double_scalars\n",
      "\n",
      "/anaconda3/lib/python3.6/site-packages/statsmodels/regression/linear_model.py:846: RuntimeWarning:\n",
      "\n",
      "divide by zero encountered in log\n",
      "\n",
      "/anaconda3/lib/python3.6/site-packages/statsmodels/stats/stattools.py:47: RuntimeWarning:\n",
      "\n",
      "invalid value encountered in double_scalars\n",
      "\n",
      "/anaconda3/lib/python3.6/site-packages/statsmodels/base/model.py:1100: RuntimeWarning:\n",
      "\n",
      "divide by zero encountered in true_divide\n",
      "\n"
     ]
    }
   ],
   "source": [
    "# regression 1\n",
    "data_1= pd.concat([x1, y1], axis = 1)\n",
    "reg_x = ols(\"y1~x1+0\", data = data_1).fit()\n",
    "print(reg_x.summary())"
   ]
  },
  {
   "cell_type": "code",
   "execution_count": 59,
   "metadata": {},
   "outputs": [
    {
     "name": "stdout",
     "output_type": "stream",
     "text": [
      "                            OLS Regression Results                            \n",
      "==============================================================================\n",
      "Dep. Variable:                     x1   R-squared:                       1.000\n",
      "Model:                            OLS   Adj. R-squared:                  1.000\n",
      "Method:                 Least Squares   F-statistic:                       inf\n",
      "Date:                Sun, 06 Jan 2019   Prob (F-statistic):               0.00\n",
      "Time:                        18:05:46   Log-Likelihood:                    inf\n",
      "No. Observations:                 100   AIC:                              -inf\n",
      "Df Residuals:                      99   BIC:                              -inf\n",
      "Df Model:                           1                                         \n",
      "Covariance Type:            nonrobust                                         \n",
      "==============================================================================\n",
      "                 coef    std err          t      P>|t|      [0.025      0.975]\n",
      "------------------------------------------------------------------------------\n",
      "y1             0.5000          0        inf      0.000       0.500       0.500\n",
      "==============================================================================\n",
      "Omnibus:                        1.044   Durbin-Watson:                     nan\n",
      "Prob(Omnibus):                  0.593   Jarque-Bera (JB):               37.500\n",
      "Skew:                           0.000   Prob(JB):                     7.19e-09\n",
      "Kurtosis:                       0.000   Cond. No.                         1.00\n",
      "==============================================================================\n",
      "\n",
      "Warnings:\n",
      "[1] Standard Errors assume that the covariance matrix of the errors is correctly specified.\n",
      "\n"
     ]
    }
   ],
   "source": [
    "# regression 2\n",
    "reg_y = ols(\"x1~y1+0\", data = data_1).fit()\n",
    "print(reg_y.summary())\n",
    "print()"
   ]
  },
  {
   "cell_type": "code",
   "execution_count": 60,
   "metadata": {},
   "outputs": [],
   "source": [
    "x2 = pd.DataFrame(np.random.normal(0, 1, 100))\n",
    "y2 = pd.DataFrame(np.random.choice(x2[0], size = 100, replace = False))"
   ]
  },
  {
   "cell_type": "code",
   "execution_count": 61,
   "metadata": {},
   "outputs": [
    {
     "name": "stdout",
     "output_type": "stream",
     "text": [
      "Summation x^2: 113.338610\n",
      "Summation y^2: 113.338610\n",
      "\n"
     ]
    }
   ],
   "source": [
    "print(\"Summation x^2: %f\" % np.sum(pow(x2[0], 2)))\n",
    "print(\"Summation y^2: %f\\n\" % np.sum(pow(y2[0], 2)))"
   ]
  },
  {
   "cell_type": "code",
   "execution_count": 62,
   "metadata": {},
   "outputs": [
    {
     "name": "stdout",
     "output_type": "stream",
     "text": [
      "                            OLS Regression Results                            \n",
      "==============================================================================\n",
      "Dep. Variable:                     y2   R-squared:                       0.001\n",
      "Model:                            OLS   Adj. R-squared:                 -0.010\n",
      "Method:                 Least Squares   F-statistic:                   0.05355\n",
      "Date:                Sun, 06 Jan 2019   Prob (F-statistic):              0.817\n",
      "Time:                        18:06:22   Log-Likelihood:                -148.13\n",
      "No. Observations:                 100   AIC:                             298.3\n",
      "Df Residuals:                      99   BIC:                             300.9\n",
      "Df Model:                           1                                         \n",
      "Covariance Type:            nonrobust                                         \n",
      "==============================================================================\n",
      "                 coef    std err          t      P>|t|      [0.025      0.975]\n",
      "------------------------------------------------------------------------------\n",
      "x2             0.0233      0.100      0.231      0.817      -0.176       0.223\n",
      "==============================================================================\n",
      "Omnibus:                        0.502   Durbin-Watson:                   1.939\n",
      "Prob(Omnibus):                  0.778   Jarque-Bera (JB):                0.149\n",
      "Skew:                          -0.010   Prob(JB):                        0.928\n",
      "Kurtosis:                       3.188   Cond. No.                         1.00\n",
      "==============================================================================\n",
      "\n",
      "Warnings:\n",
      "[1] Standard Errors assume that the covariance matrix of the errors is correctly specified.\n"
     ]
    },
    {
     "data": {
      "text/plain": [
       "<Figure size 792x360 with 0 Axes>"
      ]
     },
     "execution_count": 62,
     "metadata": {},
     "output_type": "execute_result"
    },
    {
     "data": {
      "text/plain": [
       "<Figure size 792x360 with 0 Axes>"
      ]
     },
     "metadata": {},
     "output_type": "display_data"
    }
   ],
   "source": [
    "# regression 1\n",
    "data_2 = pd.concat([x2, y2], axis = 1)\n",
    "reg_x = ols(\"y2~x2+0\", data = data_2).fit()\n",
    "print(reg_x.summary())\n",
    "plt.figure(figsize = (11, 5))"
   ]
  },
  {
   "cell_type": "code",
   "execution_count": 63,
   "metadata": {},
   "outputs": [
    {
     "name": "stdout",
     "output_type": "stream",
     "text": [
      "                            OLS Regression Results                            \n",
      "==============================================================================\n",
      "Dep. Variable:                     x2   R-squared:                       0.001\n",
      "Model:                            OLS   Adj. R-squared:                 -0.010\n",
      "Method:                 Least Squares   F-statistic:                   0.05355\n",
      "Date:                Sun, 06 Jan 2019   Prob (F-statistic):              0.817\n",
      "Time:                        18:06:28   Log-Likelihood:                -148.13\n",
      "No. Observations:                 100   AIC:                             298.3\n",
      "Df Residuals:                      99   BIC:                             300.9\n",
      "Df Model:                           1                                         \n",
      "Covariance Type:            nonrobust                                         \n",
      "==============================================================================\n",
      "                 coef    std err          t      P>|t|      [0.025      0.975]\n",
      "------------------------------------------------------------------------------\n",
      "y2             0.0233      0.100      0.231      0.817      -0.176       0.223\n",
      "==============================================================================\n",
      "Omnibus:                        0.487   Durbin-Watson:                   1.977\n",
      "Prob(Omnibus):                  0.784   Jarque-Bera (JB):                0.141\n",
      "Skew:                           0.014   Prob(JB):                        0.932\n",
      "Kurtosis:                       3.182   Cond. No.                         1.00\n",
      "==============================================================================\n",
      "\n",
      "Warnings:\n",
      "[1] Standard Errors assume that the covariance matrix of the errors is correctly specified.\n"
     ]
    }
   ],
   "source": [
    "# regression 2\n",
    "reg_y = ols(\"x2~y2+0\", data = data_2).fit()\n",
    "print(reg_y.summary())"
   ]
  },
  {
   "cell_type": "code",
   "execution_count": null,
   "metadata": {},
   "outputs": [],
   "source": []
  }
 ],
 "metadata": {
  "kernelspec": {
   "display_name": "Python 3",
   "language": "python",
   "name": "python3"
  },
  "language_info": {
   "codemirror_mode": {
    "name": "ipython",
    "version": 3
   },
   "file_extension": ".py",
   "mimetype": "text/x-python",
   "name": "python",
   "nbconvert_exporter": "python",
   "pygments_lexer": "ipython3",
   "version": "3.6.6"
  }
 },
 "nbformat": 4,
 "nbformat_minor": 2
}
